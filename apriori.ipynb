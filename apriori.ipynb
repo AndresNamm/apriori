{
 "cells": [
  {
   "cell_type": "code",
   "execution_count": null,
   "id": "c76583cf",
   "metadata": {},
   "outputs": [
    {
     "name": "stdout",
     "output_type": "stream",
     "text": [
      "C1: {1: 3, 2: 4, 3: 3, 4: 1, 5: 2, 7: 1, 6: 1}\n"
     ]
    }
   ],
   "source": [
    "from itertools import combinations\n",
    "\n",
    "ORIGINAL_DATASET = ((1,2),(1,3,4),(2,5,7),(1,2,3),(2,3,5,6))\n",
    "MIN_SUPPORT = 2\n",
    "MIN_CONFIDENCE = 50.0\n",
    "\n",
    "c1 = dict()\n",
    "\n",
    "for itemset in ORIGINAL_DATASET:\n",
    "    for i in itemset:\n",
    "        c1[i] = c1.get(i,0) + 1\n",
    "\n",
    "print(\"C1:\", c1)"
   ]
  },
  {
   "cell_type": "code",
   "execution_count": 6,
   "id": "71b9028e",
   "metadata": {},
   "outputs": [
    {
     "name": "stdout",
     "output_type": "stream",
     "text": [
      "C1: after Min Support Filter 2 {1: 3, 2: 4, 3: 3, 5: 2}\n"
     ]
    }
   ],
   "source": [
    "for item in list(c1):\n",
    "    if c1[item]<MIN_SUPPORT:\n",
    "        del c1[item]\n",
    "print(f\"C1: after Min Support Filter {MIN_SUPPORT}\", c1)"
   ]
  },
  {
   "cell_type": "code",
   "execution_count": 8,
   "id": "5d93be7f",
   "metadata": {},
   "outputs": [
    {
     "data": {
      "text/plain": [
       "[1, 2, 3, 5]"
      ]
     },
     "execution_count": 8,
     "metadata": {},
     "output_type": "execute_result"
    }
   ],
   "source": [
    "\n",
    "items = list(c1.keys())\n",
    "support = [c1]\n",
    "\n",
    "items"
   ]
  },
  {
   "cell_type": "code",
   "execution_count": 11,
   "id": "4661a4c0",
   "metadata": {},
   "outputs": [
    {
     "name": "stdout",
     "output_type": "stream",
     "text": [
      "Combinations of 2 items:\n",
      "(1, 2)\n",
      "(1, 3)\n",
      "(1, 5)\n",
      "(2, 3)\n",
      "(2, 5)\n",
      "(3, 5)\n",
      "Combinations of 3 items:\n",
      "(1, 2, 3)\n",
      "(1, 2, 5)\n",
      "(1, 3, 5)\n",
      "(2, 3, 5)\n"
     ]
    }
   ],
   "source": [
    "\n",
    "for i in range(2,len(items)):\n",
    "    s = dict()\n",
    "    print(f\"Combinations of {i} items:\")\n",
    "    for combo in combinations(items, i):\n",
    "        print(combo)\n"
   ]
  },
  {
   "cell_type": "code",
   "execution_count": null,
   "id": "279cff82",
   "metadata": {},
   "outputs": [
    {
     "name": "stdout",
     "output_type": "stream",
     "text": [
      "[{1: 3, 2: 4, 3: 3, 5: 2}, {(1, 2): 2, (1, 3): 2, (2, 3): 2, (2, 5): 2}]\n"
     ]
    }
   ],
   "source": [
    "# This code implements the Apriori algorithm for frequent itemset mining\n",
    "\n",
    "# Loop through each possible itemset size (starting from 2)\n",
    "for i in range(2, len(items)):\n",
    "    s = dict()  # Dictionary to store itemsets and their support counts\n",
    "    \n",
    "    # Generate all possible combinations of size i from the frequent items\n",
    "    for combo in combinations(items, i):\n",
    "        # Count how many times this combination appears in the dataset\n",
    "        for itemset in ORIGINAL_DATASET:\n",
    "            # Check if the current combination is a subset of the itemset\n",
    "            if set(combo).issubset(itemset):\n",
    "                s[combo] = s.get(combo, 0) + 1\n",
    "        \n",
    "        # Prune: Remove combinations that don't meet minimum support threshold\n",
    "        if s.get(combo) and s[combo] < MIN_SUPPORT:\n",
    "            del s[combo]\n",
    "    \n",
    "    # If no combinations meet the minimum support, stop the algorithm\n",
    "    if not s:\n",
    "        break\n",
    "        \n",
    "    # Add this level's frequent itemsets to our support list\n",
    "    support.append(s)\n",
    "\n",
    "# Print all discovered frequent itemsets with their support counts\n",
    "print(support)\n"
   ]
  },
  {
   "cell_type": "code",
   "execution_count": null,
   "id": "512e14d0",
   "metadata": {},
   "outputs": [],
   "source": [
    "# Generate association rules from frequent itemsets\n",
    "rules = dict()\n",
    "\n",
    "# Iterate through each combination in the last level of frequent itemsets (largest size)\n",
    "for combo in support[-1]:\n",
    "    # For each item in the combination, create rules where this item is the consequent\n",
    "    for item in combo:\n",
    "        # Create antecedent by removing the current item from the combination\n",
    "        # An antecedent is the \"if\" part (left side) of an association rule\n",
    "        # For example, in a rule A→B, A is the antecedent and B is the consequent\n",
    "        # Here we're creating rules by treating each item as a consequent,\n",
    "        # and the remaining items in the combination as the antecedent\n",
    "        c = list(combo)\n",
    "        c.remove(item)\n",
    "        len_c = len(c)\n",
    "        \n",
    "        # Format the antecedent properly (as single item or tuple)\n",
    "        c = c[0] if len_c == 1 else tuple(c)\n",
    "        \n",
    "        # Calculate confidence for rule: item -> antecedent\n",
    "        # Confidence = support(combo) / support(item)\n",
    "        rule_1 = support[-1][combo]/support[0][item]*100\n",
    "        \n",
    "        # Calculate confidence for rule: antecedent -> item\n",
    "        # Confidence = support(combo) / support(antecedent)\n",
    "        rule_2 = support[-1][combo]/support[len_c-1][c]*100\n",
    "        \n",
    "        # Add rules that meet minimum confidence threshold to results\n",
    "        if rule_1 >= MIN_CONFIDENCE: \n",
    "            rules[f\"{item}->{c}\"] = rule_1\n",
    "        if rule_2 >= MIN_CONFIDENCE: \n",
    "            rules[f\"{c}->{item}\"] = rule_2\n",
    "\n",
    "# Print all generated association rules with their confidence values\n",
    "print(rules)"
   ]
  }
 ],
 "metadata": {
  "kernelspec": {
   "display_name": "Python 3",
   "language": "python",
   "name": "python3"
  },
  "language_info": {
   "codemirror_mode": {
    "name": "ipython",
    "version": 3
   },
   "file_extension": ".py",
   "mimetype": "text/x-python",
   "name": "python",
   "nbconvert_exporter": "python",
   "pygments_lexer": "ipython3",
   "version": "3.12.3"
  }
 },
 "nbformat": 4,
 "nbformat_minor": 5
}
